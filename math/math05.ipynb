{
 "cells": [
  {
   "cell_type": "code",
   "execution_count": 46,
   "metadata": {},
   "outputs": [],
   "source": [
    "%matplotlib inline\n",
    "import numpy as np\n",
    "import matplotlib.pyplot as plt\n",
    "import matplotlib.mlab as mlab\n",
    "import itertools\n"
   ]
  },
  {
   "cell_type": "code",
   "execution_count": 89,
   "metadata": {},
   "outputs": [
    {
     "name": "stdout",
     "output_type": "stream",
     "text": [
      "11\n",
      "30\n",
      "30\n"
     ]
    }
   ],
   "source": [
    "#имитируем выпадение случайного поля в рулетке (3 броска)\n",
    "for _ in range(3):\n",
    "    print(np.random.randint(0,37))\n",
    "        "
   ]
  },
  {
   "cell_type": "code",
   "execution_count": 96,
   "metadata": {},
   "outputs": [
    {
     "name": "stdout",
     "output_type": "stream",
     "text": [
      "Проверим отклонения от расчитанных показателей вероятности выпадения четного или нечетного номера\n",
      "Попыток - 10. Расчетная - 0.9730. Полученая - 1.0000.\n",
      "Попыток - 100. Расчетная - 0.9730. Полученая - 0.9700.\n",
      "Попыток - 1000. Расчетная - 0.9730. Полученая - 0.9760.\n",
      "Попыток - 10000. Расчетная - 0.9730. Полученая - 0.9738.\n",
      "Попыток - 100000. Расчетная - 0.9730. Полученая - 0.9730.\n",
      "Проверим отклонения от расчитанных показателей вероятности выпадения двух четных или двух нечетных подряд\n",
      "Первый бросок - вероятность 36/37, второй 18/37. Расчетная - 36/37*18/37=0.4733\n",
      "Попыток 10. Полученная вероятность - 0.9000.\n",
      "Попыток 100. Полученная вероятность - 0.4100.\n",
      "Попыток 1000. Полученная вероятность - 0.4650.\n",
      "Попыток 10000. Полученная вероятность - 0.4682.\n",
      "Попыток 100000. Полученная вероятность - 0.4770.\n",
      "Попыток 1000000. Полученная вероятность - 0.4728.\n"
     ]
    }
   ],
   "source": [
    "#проверим вероятности выпадения четных и нечетных номеров\n",
    "def check_odd_even(count):\n",
    "    odd=0\n",
    "    even=0\n",
    "    for i in range(count):\n",
    "        field = np.random.randint(0,37)\n",
    "        if field != 0:\n",
    "            if field%2==0:\n",
    "                even+=1\n",
    "            else:\n",
    "                odd+=1\n",
    "    p_sum = odd/count+even/count\n",
    "    print(f\"Попыток - {count}. Расчетная - {36/37:.4f}. Полученая - {p_sum:.4f}.\")\n",
    "    \n",
    "def check_odd_even_pair(count):\n",
    "    prev = 0\n",
    "    pair = 0\n",
    "    for i in range(count):\n",
    "        current = np.random.randint(0,37)\n",
    "        if prev!=0 and current!=0 and (prev+current)%2==0:\n",
    "            pair+=1\n",
    "        prev=current\n",
    "    print(f\"Попыток {count}. Полученная вероятность - {pair/count:.4f}.\")\n",
    "    \n",
    "\n",
    "print(\"Проверим отклонения от расчитанных показателей вероятности выпадения четного или нечетного номера\")\n",
    "for i in range(1,6):\n",
    "    check_odd_even(10**i)\n",
    "    \n",
    "print(\"Проверим отклонения от расчитанных показателей вероятности выпадения двух четных или двух нечетных подряд\")\n",
    "print(f\"Первый бросок - вероятность 36/37, второй 18/37. Расчетная - 36/37*18/37={36/37*18/37:.4f}\")\n",
    "for i in range(1,6):\n",
    "    check_odd_even_pair(10**i)\n",
    "\n",
    "\n",
    "\n",
    "\n",
    "\n",
    "\n",
    "\n"
   ]
  },
  {
   "cell_type": "code",
   "execution_count": 82,
   "metadata": {},
   "outputs": [
    {
     "data": {
      "image/png": "[encoded data removed]",
      "text/plain": [
       "<Figure size 432x288 with 1 Axes>"
      ]
     },
     "metadata": {
      "needs_background": "light"
     },
     "output_type": "display_data"
    }
   ],
   "source": [
    "\"\"\"\n",
    "Сгенерируйте десять выборок случайных чисел х0, …, х9.\n",
    "и постройте гистограмму распределения случайной суммы х0+х1+ …+ х9\n",
    "\"\"\"\n",
    "x = [np.random.rand(10) for _ in range(10)]\n",
    "sums = [sum(arr) for arr in x]\n",
    "plt.hist(sums, 5)\n",
    "plt.show()\n",
    "\n"
   ]
  },
  {
   "cell_type": "code",
   "execution_count": 43,
   "metadata": {},
   "outputs": [
    {
     "name": "stdout",
     "output_type": "stream",
     "text": [
      "Монте Карло\n",
      "0.3778\n",
      "Биномиальное распределение\n",
      "0.375\n",
      "Разница: 0.0028000000000000247\n"
     ]
    }
   ],
   "source": [
    "k, n = 0, 10000\n",
    "a = np.random.randint(0, 2, n)\n",
    "b = np.random.randint(0, 2, n)\n",
    "c = np.random.randint(0, 2, n)\n",
    "d = np.random.randint(0, 2, n)\n",
    "x = a + b + c + d\n",
    "for i in range(0, n):\n",
    "    if x[i] == 2:\n",
    "        k = k + 1\n",
    "#print(a, b, c, d)\n",
    "#print(x)\n",
    "print('Монте Карло')\n",
    "print(k/n)\n",
    "\n",
    "print('Биномиальное распределение')\n",
    "c_2_4=np.math.factorial(4)/(np.math.factorial(4-2)*np.math.factorial(2))\n",
    "p_2_4=c_2_4/2**4\n",
    "print(p_2_4)\n",
    "\n",
    "print(f'Разница: {abs(k/n-p_2_4)}')"
   ]
  },
  {
   "cell_type": "code",
   "execution_count": 44,
   "metadata": {},
   "outputs": [
    {
     "name": "stdout",
     "output_type": "stream",
     "text": [
      "Монте Карло\n",
      "0.2706\n",
      "Биномиальное распределение\n",
      "0.2734375\n",
      "Разница: 0.002837499999999993\n"
     ]
    }
   ],
   "source": [
    "#Повторяем задачу с для 3 успехов из 7 испытаний\n",
    "n = 100000\n",
    "a=[np.random.randint(0, 2, n) for _ in range(7)]\n",
    "x=sum(a)\n",
    "#print(x)\n",
    "k = list(x).count(3)\n",
    "\n",
    "print('Монте Карло')\n",
    "print(k/n)\n",
    "\n",
    "print('Биномиальное распределение')\n",
    "c_3_7=np.math.factorial(7)/(np.math.factorial(7-3)*np.math.factorial(3))\n",
    "p_3_7=c_3_7/2**7\n",
    "print(p_3_7)\n",
    "\n",
    "print(f'Разница: {abs(k/n-p_3_7)}')"
   ]
  },
  {
   "cell_type": "code",
   "execution_count": 56,
   "metadata": {},
   "outputs": [
    {
     "name": "stdout",
     "output_type": "stream",
     "text": [
      "1: abc\n",
      "2: acb\n",
      "3: bac\n",
      "4: bca\n",
      "5: cab\n",
      "6: cba\n",
      "----------------------------------------------------------------------------------------------------\n",
      "1: *+-=!\n",
      "2: *+-!=\n",
      "3: *+=-!\n",
      "4: *+=!-\n",
      "5: *+!-=\n",
      "6: *+!=-\n",
      "7: *-+=!\n",
      "8: *-+!=\n",
      "9: *-=+!\n",
      "10: *-=!+\n",
      "11: *-!+=\n",
      "12: *-!=+\n",
      "13: *=+-!\n",
      "14: *=+!-\n",
      "15: *=-+!\n",
      "16: *=-!+\n",
      "17: *=!+-\n",
      "18: *=!-+\n",
      "19: *!+-=\n",
      "20: *!+=-\n",
      "21: *!-+=\n",
      "22: *!-=+\n",
      "23: *!=+-\n",
      "24: *!=-+\n",
      "25: +*-=!\n",
      "26: +*-!=\n",
      "27: +*=-!\n",
      "28: +*=!-\n",
      "29: +*!-=\n",
      "30: +*!=-\n",
      "31: +-*=!\n",
      "32: +-*!=\n",
      "33: +-=*!\n",
      "34: +-=!*\n",
      "35: +-!*=\n",
      "36: +-!=*\n",
      "37: +=*-!\n",
      "38: +=*!-\n",
      "39: +=-*!\n",
      "40: +=-!*\n",
      "41: +=!*-\n",
      "42: +=!-*\n",
      "43: +!*-=\n",
      "44: +!*=-\n",
      "45: +!-*=\n",
      "46: +!-=*\n",
      "47: +!=*-\n",
      "48: +!=-*\n",
      "49: -*+=!\n",
      "50: -*+!=\n",
      "51: -*=+!\n",
      "52: -*=!+\n",
      "53: -*!+=\n",
      "54: -*!=+\n",
      "55: -+*=!\n",
      "56: -+*!=\n",
      "57: -+=*!\n",
      "58: -+=!*\n",
      "59: -+!*=\n",
      "60: -+!=*\n",
      "61: -=*+!\n",
      "62: -=*!+\n",
      "63: -=+*!\n",
      "64: -=+!*\n",
      "65: -=!*+\n",
      "66: -=!+*\n",
      "67: -!*+=\n",
      "68: -!*=+\n",
      "69: -!+*=\n",
      "70: -!+=*\n",
      "71: -!=*+\n",
      "72: -!=+*\n",
      "73: =*+-!\n",
      "74: =*+!-\n",
      "75: =*-+!\n",
      "76: =*-!+\n",
      "77: =*!+-\n",
      "78: =*!-+\n",
      "79: =+*-!\n",
      "80: =+*!-\n",
      "81: =+-*!\n",
      "82: =+-!*\n",
      "83: =+!*-\n",
      "84: =+!-*\n",
      "85: =-*+!\n",
      "86: =-*!+\n",
      "87: =-+*!\n",
      "88: =-+!*\n",
      "89: =-!*+\n",
      "90: =-!+*\n",
      "91: =!*+-\n",
      "92: =!*-+\n",
      "93: =!+*-\n",
      "94: =!+-*\n",
      "95: =!-*+\n",
      "96: =!-+*\n",
      "97: !*+-=\n",
      "98: !*+=-\n",
      "99: !*-+=\n",
      "100: !*-=+\n",
      "101: !*=+-\n",
      "102: !*=-+\n",
      "103: !+*-=\n",
      "104: !+*=-\n",
      "105: !+-*=\n",
      "106: !+-=*\n",
      "107: !+=*-\n",
      "108: !+=-*\n",
      "109: !-*+=\n",
      "110: !-*=+\n",
      "111: !-+*=\n",
      "112: !-+=*\n",
      "113: !-=*+\n",
      "114: !-=+*\n",
      "115: !=*+-\n",
      "116: !=*-+\n",
      "117: !=+*-\n",
      "118: !=+-*\n",
      "119: !=-*+\n",
      "120: !=-+*\n"
     ]
    }
   ],
   "source": [
    "# Из урока по комбинаторике повторите расчеты, сгенерировав возможные варианты перестановок \n",
    "# для других значений n и k\n",
    "# Возможно тут ошибка в задании, но раз уж просят именно перестановки, то пусть будут они \n",
    "\n",
    "# n=k=3\n",
    "for i, p in enumerate(itertools.permutations(\"abc\",3)):\n",
    "    print(f'{str(i+1)}: '+''.join(str(x) for x in p))\n",
    "print('-'*100)\n",
    "# n=k=5\n",
    "for i, p in enumerate(itertools.permutations(\"*+-=!\",5)):\n",
    "    print(f'{str(i+1)}: '+''.join(str(x) for x in p))"
   ]
  },
  {
   "cell_type": "code",
   "execution_count": 69,
   "metadata": {},
   "outputs": [
    {
     "data": {
      "image/png": "[encoded data removed]",
      "text/plain": [
       "<Figure size 432x288 with 1 Axes>"
      ]
     },
     "metadata": {
      "needs_background": "light"
     },
     "output_type": "display_data"
    },
    {
     "name": "stdout",
     "output_type": "stream",
     "text": [
      "[[1.         0.91796017]\n",
      " [0.91796017 1.        ]]\n",
      "0.9179601662717937\n"
     ]
    }
   ],
   "source": [
    "n = 1000\n",
    "r = 0.7\n",
    "x = np.random.rand(n)\n",
    "y = r*x + (1 - r)*np.random.rand(n)\n",
    "plt.plot(x, y, 'o')\n",
    "plt.xlabel('x')\n",
    "plt.ylabel('y')\n",
    "plt.grid(True)\n",
    "plt.show()\n",
    "c = np.corrcoef(x, y) \n",
    "print(c)\n",
    "\n",
    "#найдем коэффициент корреляции вручную\n",
    "xm, ym = sum(x)/n, sum(y)/n\n",
    "R = sum((x-xm)*(y-ym))/np.sqrt(sum((x-xm)**2)*sum((y-ym)**2))\n",
    "print(R)\n"
   ]
  },
  {
   "cell_type": "code",
   "execution_count": null,
   "metadata": {},
   "outputs": [],
   "source": []
  },
  {
   "cell_type": "code",
   "execution_count": null,
   "metadata": {},
   "outputs": [],
   "source": []
  }
 ],
 "metadata": {
  "kernelspec": {
   "display_name": "Python 3",
   "language": "python",
   "name": "python3"
  },
  "language_info": {
   "codemirror_mode": {
    "name": "ipython",
    "version": 3
   },
   "file_extension": ".py",
   "mimetype": "text/x-python",
   "name": "python",
   "nbconvert_exporter": "python",
   "pygments_lexer": "ipython3",
   "version": "3.7.4"
  }
 },
 "nbformat": 4,
 "nbformat_minor": 2
}
